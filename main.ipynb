{
 "cells": [
  {
   "cell_type": "code",
   "execution_count": 56,
   "metadata": {},
   "outputs": [
    {
     "data": {
      "text/plain": [
       "<module 'tokenization' from '/home/lk3591/Documents/code/AssemblyStyleTransfer/tokenization.py'>"
      ]
     },
     "execution_count": 56,
     "metadata": {},
     "output_type": "execute_result"
    }
   ],
   "source": [
    "from pathlib import Path\n",
    "from importlib import reload\n",
    "\n",
    "import tokenization\n",
    "\n",
    "reload(tokenization)"
   ]
  },
  {
   "cell_type": "code",
   "execution_count": 57,
   "metadata": {},
   "outputs": [
    {
     "name": "stdout",
     "output_type": "stream",
     "text": [
      "┌ 149: fcn.00449bf0 (uint32_t arg_8h, uint32_t arg_ch, int32_t arg_10h, int32_t arg_14h);\n",
      "│ ; arg uint32_t arg_8h @ esp+0x8\n",
      "│ ; arg uint32_t arg_ch @ esp+0xc\n",
      "│ ; arg int32_t arg_10h @ esp+0x10\n",
      "│ ; arg int32_t arg_14h @ esp+0x14\n",
      "│ 0x00449bf0      56             push esi\n",
      "│ 0x00449bf1      8b442414       mov eax, dword [arg_14h]\n",
      "│ 0x00449bf5      0bc0           or eax, eax\n",
      "│ 0x00449bf7      7528           jne 0x449c21\n",
      "| // true: 0x00449c21  false: 0x00449bf9\n",
      "│ 0x00449bf9      8b4c2410       mov ecx, dword [arg_10h]\n",
      "│ 0x00449bfd      8b44240c       mov eax, dword [arg_ch]\n",
      "│ 0x00449c01      33d2           xor edx, edx\n",
      "│ 0x00449c03      f7f1           div ecx\n",
      "│ 0x00449c05      8bd8           mov ebx, eax\n",
      "│ 0x00449c07      8b442408       mov eax, dword [arg_8h]\n",
      "│ 0x00449c0b      f7f1           div ecx\n",
      "│ 0x00449c0d      8bf0           mov esi, eax\n",
      "│ 0x00449c0f      8bc3           mov eax, ebx\n",
      "│ 0x00449c11      f7642410       mul dword [arg_10h]\n",
      "│ 0x00449c15      8bc8           mov ecx, eax\n",
      "│ 0x00449c17      8bc6           mov eax, esi\n",
      "│ 0x00449c19      f7642410       mul dword [arg_10h]\n",
      "│ 0x00449c1d      03d1           add edx, ecx\n",
      "│ 0x00449c1f      eb47           jmp 0x449c68\n",
      "| // true: 0x00449c68\n",
      "│ ; CODE XREF from fcn.00449bf0 @ 0x449bf7(x)\n",
      "│ 0x00449c21      8bc8           mov ecx, eax\n",
      "│ 0x00449c23      8b5c2410       mov ebx, dword [arg_10h]\n",
      "│ 0x00449c27      8b54240c       mov edx, dword [arg_ch]\n",
      "│ 0x00449c2b      8b442408       mov eax, dword [arg_8h]\n",
      "| // true: 0x00449c2f\n",
      "│ ; CODE XREF from fcn.00449bf0 @ 0x449c39(x)\n",
      "│ 0x00449c2f      d1e9           shr ecx, 1\n",
      "│ 0x00449c31      d1db           rcr ebx, 1\n",
      "│ 0x00449c33      d1ea           shr edx, 1\n",
      "│ 0x00449c35      d1d8           rcr eax, 1\n",
      "│ 0x00449c37      0bc9           or ecx, ecx\n",
      "│ 0x00449c39      75f4           jne 0x449c2f\n",
      "| // true: 0x00449c2f  false: 0x00449c3b\n",
      "│ 0x00449c3b      f7f3           div ebx\n",
      "│ 0x00449c3d      8bf0           mov esi, eax\n",
      "│ 0x00449c3f      f7642414       mul dword [arg_14h]\n",
      "│ 0x00449c43      8bc8           mov ecx, eax\n",
      "│ 0x00449c45      8b442410       mov eax, dword [arg_10h]\n",
      "│ 0x00449c49      f7e6           mul esi\n",
      "│ 0x00449c4b      03d1           add edx, ecx\n",
      "│ 0x00449c4d      720e           jb 0x449c5d\n",
      "| // true: 0x00449c5d  false: 0x00449c4f\n",
      "│ 0x00449c4f      3b54240c       cmp edx, dword [arg_ch]\n",
      "│ 0x00449c53      7708           ja 0x449c5d\n",
      "| // true: 0x00449c5d  false: 0x00449c55\n",
      "│ 0x00449c55      720f           jb 0x449c66\n",
      "| // true: 0x00449c66  false: 0x00449c57\n",
      "│ 0x00449c57      3b442408       cmp eax, dword [arg_8h]\n",
      "│ 0x00449c5b      7609           jbe 0x449c66\n",
      "| // true: 0x00449c66  false: 0x00449c5d\n",
      "│ ; CODE XREFS from fcn.00449bf0 @ 0x449c4d(x), 0x449c53(x)\n",
      "│ 0x00449c5d      4e             dec esi\n",
      "│ 0x00449c5e      2b442410       sub eax, dword [arg_10h]\n",
      "│ 0x00449c62      1b542414       sbb edx, dword [arg_14h]\n",
      "| // true: 0x00449c66\n",
      "│ ; CODE XREFS from fcn.00449bf0 @ 0x449c55(x), 0x449c5b(x)\n",
      "│ 0x00449c66      33db           xor ebx, ebx\n",
      "| // true: 0x00449c68\n",
      "│ ; CODE XREF from fcn.00449bf0 @ 0x449c1f(x)\n",
      "│ 0x00449c68      2b442408       sub eax, dword [arg_8h]\n",
      "│ 0x00449c6c      1b54240c       sbb edx, dword [arg_ch]\n",
      "│ 0x00449c70      f7da           neg edx\n",
      "│ 0x00449c72      f7d8           neg eax\n",
      "│ 0x00449c74      83da00         sbb edx, 0\n",
      "│ 0x00449c77      8bca           mov ecx, edx\n",
      "│ 0x00449c79      8bd3           mov edx, ebx\n",
      "│ 0x00449c7b      8bd9           mov ebx, ecx\n",
      "│ 0x00449c7d      8bc8           mov ecx, eax\n",
      "│ 0x00449c7f      8bc6           mov eax, esi\n",
      "│ 0x00449c81      5e             pop esi\n",
      "└ 0x00449c82      c21000         ret 0x10\n"
     ]
    }
   ],
   "source": [
    "file = Path(\"/home/lk3591/Documents/code/AssemblyStyleTransfer/data/disassemble/002a77ad7cc4dd37e99b96798fe8ef8918508788af06bea22f891071/4496368_4496514.asm\")\n",
    "with open(file) as handle:\n",
    "    text = handle.read()\n",
    "print(text)"
   ]
  },
  {
   "cell_type": "code",
   "execution_count": 58,
   "metadata": {},
   "outputs": [],
   "source": [
    "normalizer = tokenization.get_normalizer()"
   ]
  },
  {
   "cell_type": "code",
   "execution_count": 59,
   "metadata": {},
   "outputs": [],
   "source": [
    "x = normalizer.normalize_str(text)"
   ]
  },
  {
   "cell_type": "code",
   "execution_count": 60,
   "metadata": {},
   "outputs": [
    {
     "name": "stdout",
     "output_type": "stream",
     "text": [
      "\n",
      "push esi\n",
      "mov eax, dword [arg_14h]\n",
      "or eax, eax\n",
      "jne <ADR>\n",
      "mov ecx, dword [arg_10h]\n",
      "mov eax, dword [arg_ch]\n",
      "xor edx, edx\n",
      "div ecx\n",
      "mov ebx, eax\n",
      "mov eax, dword [arg_8h]\n",
      "div ecx\n",
      "mov esi, eax\n",
      "mov eax, ebx\n",
      "mul dword [arg_10h]\n",
      "mov ecx, eax\n",
      "mov eax, esi\n",
      "mul dword [arg_10h]\n",
      "add edx, ecx\n",
      "jmp <ADR>\n",
      "mov ecx, eax\n",
      "mov ebx, dword [arg_10h]\n",
      "mov edx, dword [arg_ch]\n",
      "mov eax, dword [arg_8h]\n",
      "shr ecx, 1\n",
      "rcr ebx, 1\n",
      "shr edx, 1\n",
      "rcr eax, 1\n",
      "or ecx, ecx\n",
      "jne <ADR>\n",
      "div ebx\n",
      "mov esi, eax\n",
      "mul dword [arg_14h]\n",
      "mov ecx, eax\n",
      "mov eax, dword [arg_10h]\n",
      "mul esi\n",
      "add edx, ecx\n",
      "jb <ADR>\n",
      "cmp edx, dword [arg_ch]\n",
      "ja <ADR>\n",
      "jb <ADR>\n",
      "cmp eax, dword [arg_8h]\n",
      "jbe <ADR>\n",
      "dec esi\n",
      "sub eax, dword [arg_10h]\n",
      "sbb edx, dword [arg_14h]\n",
      "xor ebx, ebx\n",
      "sub eax, dword [arg_8h]\n",
      "sbb edx, dword [arg_ch]\n",
      "neg edx\n",
      "neg eax\n",
      "sbb edx, 0\n",
      "mov ecx, edx\n",
      "mov edx, ebx\n",
      "mov ebx, ecx\n",
      "mov ecx, eax\n",
      "mov eax, esi\n",
      "pop esi\n",
      "ret <ADR>\n"
     ]
    }
   ],
   "source": [
    "print(x)"
   ]
  },
  {
   "cell_type": "code",
   "execution_count": 61,
   "metadata": {},
   "outputs": [
    {
     "data": {
      "text/plain": [
       "'pop esi'"
      ]
     },
     "execution_count": 61,
     "metadata": {},
     "output_type": "execute_result"
    }
   ],
   "source": [
    "x.split(\"\\n\")[-2]"
   ]
  },
  {
   "cell_type": "code",
   "execution_count": null,
   "metadata": {},
   "outputs": [],
   "source": []
  }
 ],
 "metadata": {
  "kernelspec": {
   "display_name": "HMCST",
   "language": "python",
   "name": "python3"
  },
  "language_info": {
   "codemirror_mode": {
    "name": "ipython",
    "version": 3
   },
   "file_extension": ".py",
   "mimetype": "text/x-python",
   "name": "python",
   "nbconvert_exporter": "python",
   "pygments_lexer": "ipython3",
   "version": "3.10.8"
  },
  "orig_nbformat": 4
 },
 "nbformat": 4,
 "nbformat_minor": 2
}
